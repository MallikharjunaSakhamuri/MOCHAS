{
  "nbformat": 4,
  "nbformat_minor": 0,
  "metadata": {
    "colab": {
      "provenance": []
    },
    "kernelspec": {
      "name": "python3",
      "display_name": "Python 3"
    },
    "language_info": {
      "name": "python"
    }
  },
  "cells": [
    {
      "cell_type": "code",
      "execution_count": null,
      "metadata": {
        "id": "h05aXsa4XnnY"
      },
      "outputs": [],
      "source": [
        "# Importing the libs\n",
        "import numpy as np\n",
        "from scipy.integrate import odeint\n",
        "import matplotlib.pyplot as plt\n",
        "from sympy import *\n",
        "import sympy as sym\n",
        "x = Symbol('x')"
      ]
    },
    {
      "cell_type": "code",
      "source": [
        "# The coefficient value\n",
        "c = 0.14"
      ],
      "metadata": {
        "id": "wZ08cX36Zfh2"
      },
      "execution_count": null,
      "outputs": []
    },
    {
      "cell_type": "code",
      "source": [
        "# Defining the symbol in the equation\n",
        "x = Symbol('x, b, a,m')"
      ],
      "metadata": {
        "id": "Pk4hzQAnoi5V"
      },
      "execution_count": null,
      "outputs": []
    },
    {
      "cell_type": "code",
      "source": [],
      "metadata": {
        "id": "EJcM07e_pDNg"
      },
      "execution_count": null,
      "outputs": []
    },
    {
      "cell_type": "code",
      "source": [
        "\n",
        "# importing library sympy\n",
        "from sympy import symbols, Eq, solve\n",
        "\n",
        "m = 2\n",
        "  \n",
        "# defining symbols used in equations\n",
        "# or unknown variables\n",
        "b, a, v = symbols('b,a,v')\n",
        "  \n",
        "# defining equations\n",
        "\n",
        "#eq1 = Eq(((b * a** m * x)/(a**m + x**m)),0.14)\n",
        "#eq1 = Eq(a+b+v , 98)\n",
        "eq1 = Eq(((b*(a**m))/((a**m)+(v**m))),0.14)\n",
        "#eq1 = Eq((x+y+z), 1)\n",
        "print(\"Equation 1:\")\n",
        "print(eq1)\n",
        "\n",
        "#eq2 = Eq((b* a)/(m*(m-1)**((1/m)-1) ,4.6210**10))\n",
        "eq2 = Eq(((b*a)/(m*((m-1)**((1/m)-1)))),4.62*10**10)\n",
        "#eq2 = Eq(a+b-(v**m) , 198)\n",
        "print(\"Equation 2\")\n",
        "print(eq2)\n",
        "  \n",
        "#eq3 = Eq((2*x-y+2*z), 1)\n",
        "#eq3 = (((b*a**m*(0.75))/((a**m)+(0.75*v)**m)),5)\n",
        "eq3 = Eq(a+(b**m)-(v**m) , 300)\n",
        "print(\"Equation 3\")\n",
        "print(eq3)\n",
        "\n",
        "# solving the equation and printing the \n",
        "# value of unknown variables\n",
        "#print(\"Values of 3 unknown variable are as follows:\")\n",
        "#print(solve((eq1, eq2, eq3), (b, a, v)))\n",
        "\n",
        "solve((eq1, eq2, eq3), (b, a, v))"
      ],
      "metadata": {
        "colab": {
          "base_uri": "https://localhost:8080/"
        },
        "id": "GTpOWKAZrI_z",
        "outputId": "75c90646-8dc2-4bf8-8241-44423109da74"
      },
      "execution_count": null,
      "outputs": [
        {
          "output_type": "stream",
          "name": "stdout",
          "text": [
            "Equation 1:\n",
            "Eq(a**2*b/(a**2 + v**2), 0.14)\n",
            "Equation 2\n",
            "Eq(0.5*a*b, 46200000000.0)\n",
            "Equation 3\n",
            "Eq(a + b**2 - v**2, 300)\n"
          ]
        }
      ]
    }
  ]
}