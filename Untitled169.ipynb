{
  "nbformat": 4,
  "nbformat_minor": 0,
  "metadata": {
    "colab": {
      "provenance": []
    },
    "kernelspec": {
      "name": "python3",
      "display_name": "Python 3"
    },
    "language_info": {
      "name": "python"
    }
  },
  "cells": [
    {
      "cell_type": "code",
      "execution_count": 24,
      "metadata": {
        "id": "eMXoBoKJE1Nh"
      },
      "outputs": [],
      "source": [
        "import numpy as np\n",
        "from scipy.integrate import odeint\n",
        "import matplotlib.pyplot as plt\n",
        "from sympy import *\n",
        "import sympy as sym\n",
        "x = Symbol('x')"
      ]
    },
    {
      "cell_type": "code",
      "source": [
        "b = 1.1 * 10**6\n",
        "s = 8\n",
        "r = 0.5\n",
        "v = 8.2 * 10**9\n",
        "\n",
        "c = 0.6\n"
      ],
      "metadata": {
        "id": "stmFK4n0FWif"
      },
      "execution_count": 25,
      "outputs": []
    },
    {
      "cell_type": "code",
      "source": [
        "px = (b*x**s)*(sym.exp(-s*x / r))\n",
        "\n",
        "pxdt = sym.diff(px)\n",
        "print(pxdt)"
      ],
      "metadata": {
        "colab": {
          "base_uri": "https://localhost:8080/"
        },
        "id": "kf3EbAn0E8Sk",
        "outputId": "c0ead238-3fd6-4ea1-be94-8f55b9f73c11"
      },
      "execution_count": 26,
      "outputs": [
        {
          "output_type": "stream",
          "name": "stdout",
          "text": [
            "-17600000.0*x**8*exp(-16.0*x) + 8800000.0*x**7*exp(-16.0*x)\n"
          ]
        }
      ]
    },
    {
      "cell_type": "code",
      "source": [
        "result = solve(Eq(pxdt, 0))\n",
        "print(result)"
      ],
      "metadata": {
        "colab": {
          "base_uri": "https://localhost:8080/"
        },
        "id": "MvmRyalpTpZZ",
        "outputId": "c00682de-7c86-4ed4-932e-f6bac3858801"
      },
      "execution_count": 27,
      "outputs": [
        {
          "output_type": "stream",
          "name": "stdout",
          "text": [
            "[0.0, 0.500000000000000]\n"
          ]
        }
      ]
    },
    {
      "cell_type": "code",
      "source": [],
      "metadata": {
        "id": "d5f9lzUJVYHl"
      },
      "execution_count": 27,
      "outputs": []
    }
  ]
}