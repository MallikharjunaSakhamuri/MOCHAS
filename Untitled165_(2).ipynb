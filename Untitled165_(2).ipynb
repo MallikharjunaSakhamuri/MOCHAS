{
  "nbformat": 4,
  "nbformat_minor": 0,
  "metadata": {
    "colab": {
      "provenance": []
    },
    "kernelspec": {
      "name": "python3",
      "display_name": "Python 3"
    },
    "language_info": {
      "name": "python"
    }
  },
  "cells": [
    {
      "cell_type": "markdown",
      "source": [
        "\n",
        "# Below function is to calculate the derivative of (b * v * (x/v) ** s) * (np.exp (-s * x/(v * r))) and to plot it`s corresponding grah."
      ],
      "metadata": {
        "id": "PlFJF36hNYgN"
      }
    },
    {
      "cell_type": "code",
      "source": [
        "# Importing the libs\n",
        "import numpy as np\n",
        "from scipy.integrate import odeint\n",
        "import matplotlib.pyplot as plt\n",
        "import sympy as sym\n",
        "\n",
        "# function that returns dy/dt\n",
        "def model(x,t):\n",
        "    b = 1.1 * 10**6\n",
        "    s = 8\n",
        "    r = 0.5\n",
        "    v = 3.3 * 10**11\n",
        "\n",
        "    dxdt = sym.diff((b * v * (x/v) ** s) * (sympy.exp (-s * x/(v * r))))\n",
        "    return dxdt\n",
        "\n",
        "#function to plot the derivative\n",
        "def main():\n",
        "    #x = np.linspace(-1, 2, 100)\n",
        "    #x = np.linspace(0, 6, 100)\n",
        "    x = np.linspace(0,2)\n",
        "    \n",
        "\n",
        "    b = 1.1 * 10**6\n",
        "    s = 8\n",
        "    r = 0.5\n",
        "    v = 3.3 * 10**11\n",
        "\n",
        "    y = (b * v * (x/v) ** s) * (np.exp (-s * x/(v * r)))\n",
        "\n",
        "\n",
        "    plt.figure()\n",
        "    plt.plot(x, y)\n",
        "    plt.xlabel('$t$')\n",
        "    plt.ylabel('$p(x)$')\n",
        "\n",
        "    plt.show()\n",
        "\n",
        "if __name__ == '__main__':\n",
        "    main()"
      ],
      "metadata": {
        "colab": {
          "base_uri": "https://localhost:8080/",
          "height": 292
        },
        "id": "zgWFeJTXcax_",
        "outputId": "351b169a-828b-4404-cbb5-86941a475dd0"
      },
      "execution_count": null,
      "outputs": [
        {
          "output_type": "display_data",
          "data": {
            "text/plain": [
              "<Figure size 432x288 with 1 Axes>"
            ],
            "image/png": "[encoded data removed]"
          },
          "metadata": {
            "needs_background": "light"
          }
        }
      ]
    },
    {
      "cell_type": "code",
      "source": [
        "# Calculating the y value when x is zero\n",
        "x = 0\n",
        "y = (b * v * (x/v) ** s) * (np.exp (-s * x/(v * r)))\n",
        "print (y)"
      ],
      "metadata": {
        "colab": {
          "base_uri": "https://localhost:8080/"
        },
        "id": "IMaj3u-6riOo",
        "outputId": "772e13f9-b475-44b0-edb6-b6dedef0ebe6"
      },
      "execution_count": null,
      "outputs": [
        {
          "output_type": "stream",
          "name": "stdout",
          "text": [
            "0.0\n"
          ]
        }
      ]
    },
    {
      "cell_type": "code",
      "source": [
        "# Calculating the y value when x is infinity\n",
        "float('inf')\n",
        "\n",
        "y = (b * v * (x/v) ** s) * (np.exp (-s * x/(v * r)))\n",
        "print (y)"
      ],
      "metadata": {
        "colab": {
          "base_uri": "https://localhost:8080/"
        },
        "id": "BKrLIPnCrsMG",
        "outputId": "7c243ca2-c340-4dcc-c54e-222de5196740"
      },
      "execution_count": null,
      "outputs": [
        {
          "output_type": "stream",
          "name": "stdout",
          "text": [
            "0.0\n"
          ]
        }
      ]
    },
    {
      "cell_type": "code",
      "source": [
        "# Calculating the derivative and plotting the value for a different set parameter values."
      ],
      "metadata": {
        "id": "6cQBNEHuSZb3"
      },
      "execution_count": null,
      "outputs": []
    },
    {
      "cell_type": "code",
      "source": [
        "import numpy as np\n",
        "from scipy.integrate import odeint\n",
        "import matplotlib.pyplot as plt\n",
        "import sympy as sym\n",
        "\n",
        "# function that returns dy/dt\n",
        "def model(x,t):\n",
        "    b = 1.1 * 10**6\n",
        "    s = 8\n",
        "    r = 0.5\n",
        "    v = 3.3 * 10**11\n",
        "\n",
        "    #dydt = -k * y\n",
        "    dxdt = sym.diff((b * v * (x/v) ** s) * (sympy.exp (-s * x/(v * r))))\n",
        "    #bv(x/v)se−sx/(vr))\n",
        "    return dxdt\n",
        "\n",
        "\n",
        "def main():\n",
        "    x = np.linspace(-1, 1, 100)\n",
        "    #x = np.linspace(0, 6, 100)\n",
        "    #x = np.linspace(0,2)\n",
        "    \n",
        "\n",
        "    b = 1.1 * 10**6\n",
        "    s = 8\n",
        "    r = 0.5\n",
        "    v = 3.3 * 10**11\n",
        "\n",
        "    y = (b * v * (x/v) ** s) * (np.exp (-s * x/(v * r)))\n",
        "\n",
        "\n",
        "    plt.figure()\n",
        "    plt.plot(x, y)\n",
        "    plt.xlabel('$t$')\n",
        "    plt.ylabel('$p(x)$')\n",
        "\n",
        "    plt.show()\n",
        "\n",
        "if __name__ == '__main__':\n",
        "    main()"
      ],
      "metadata": {
        "colab": {
          "base_uri": "https://localhost:8080/",
          "height": 292
        },
        "id": "8PvkdHH2v5JM",
        "outputId": "c0b5eba6-1b20-4962-9780-a8b84e539de2"
      },
      "execution_count": null,
      "outputs": [
        {
          "output_type": "display_data",
          "data": {
            "text/plain": [
              "<Figure size 432x288 with 1 Axes>"
            ],
            "image/png": "[encoded data removed]"
          },
          "metadata": {
            "needs_background": "light"
          }
        }
      ]
    }
  ]
}