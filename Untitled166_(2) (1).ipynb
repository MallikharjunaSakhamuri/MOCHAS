{
  "nbformat": 4,
  "nbformat_minor": 0,
  "metadata": {
    "colab": {
      "provenance": []
    },
    "kernelspec": {
      "name": "python3",
      "display_name": "Python 3"
    },
    "language_info": {
      "name": "python"
    }
  },
  "cells": [
    {
      "cell_type": "markdown",
      "source": [
        "# Below function calculates the derivative of the given equation and plot the ODE for the given model parameters "
      ],
      "metadata": {
        "id": "LDBQD1yOTa17"
      }
    },
    {
      "cell_type": "code",
      "execution_count": null,
      "metadata": {
        "colab": {
          "base_uri": "https://localhost:8080/",
          "height": 281
        },
        "id": "LKD8HtgDfwln",
        "outputId": "b87a6cee-d02d-46cb-a03f-6f3a50956992"
      },
      "outputs": [
        {
          "output_type": "display_data",
          "data": {
            "text/plain": [
              "<Figure size 432x288 with 1 Axes>"
            ],
            "image/png": "[encoded data removed]"
          },
          "metadata": {
            "needs_background": "light"
          }
        }
      ],
      "source": [
        "# Importing the libs\n",
        "import numpy as np\n",
        "from scipy.integrate import odeint\n",
        "import matplotlib.pyplot as plt\n",
        "import sympy as sym\n",
        "\n",
        "# function that returns dy/dt\n",
        "def model(x,t):\n",
        "  # Model parameters\n",
        "    b = 1.1 * 10**6\n",
        "    s = 8\n",
        "    r = 0.5\n",
        "    v = 3.3 * 10**11\n",
        "\n",
        "    \n",
        "    dxdt = sym.diff((b * v * (x/v) ** s) * (sympy.exp (-s * x/(v * r))))\n",
        "    \n",
        "    return dxdt\n",
        "\n",
        "\n",
        "def main():\n",
        "    #x = np.linspace(-1, 2, 100)\n",
        "    x = np.linspace(0, 20, 100)\n",
        "    #y = (np.exp(x))*0.14+2\n",
        "\n",
        "    # Model parameters\n",
        "    b = 1.1 * 10**6\n",
        "    s = 8\n",
        "    r = 0.5\n",
        "    v = 3.3 * 10**11\n",
        "\n",
        "\n",
        "    # ODE\n",
        "    y = (b*x**s)*(np.exp(-s*x / r))\n",
        "\n",
        "\n",
        "    # Ploting the ODE\n",
        "    plt.figure()\n",
        "    plt.plot(x, y)\n",
        "    plt.xlabel('$t$')\n",
        "    plt.ylabel('$p(x)$')\n",
        "\n",
        "    plt.show()\n",
        "\n",
        "if __name__ == '__main__':\n",
        "    main()"
      ]
    },
    {
      "cell_type": "code",
      "source": [
        "from sympy import *\n",
        "x = Symbol('x')"
      ],
      "metadata": {
        "id": "_y06vVJSxIVd"
      },
      "execution_count": null,
      "outputs": []
    },
    {
      "cell_type": "code",
      "source": [
        "# Solving the ODE\n",
        "\n",
        "y = (b*x**s)*(sym.exp(-s*x / r))\n",
        "\n",
        "#y_prime = y.diff(x)\n",
        "dxdt = sym.diff(y)\n",
        "print(dxdt)"
      ],
      "metadata": {
        "colab": {
          "base_uri": "https://localhost:8080/"
        },
        "id": "YF2GVlyqzpzf",
        "outputId": "65b48e78-2377-4d1e-b02c-2125da33f13b"
      },
      "execution_count": null,
      "outputs": [
        {
          "output_type": "stream",
          "name": "stdout",
          "text": [
            "-17600000.0*x**8*exp(-16.0*x) + 8800000.0*x**7*exp(-16.0*x)\n"
          ]
        }
      ]
    },
    {
      "cell_type": "code",
      "source": [
        "\n",
        "# To find the max. \n",
        "\n",
        "from sympy import *\n",
        "\n",
        "#x, y = symbols('x y') \n",
        "\n",
        "# set the expression, y, equal to 0 and solve\n",
        "result = solve(Eq(dxdt, 0))\n",
        "\n",
        "print(result)"
      ],
      "metadata": {
        "colab": {
          "base_uri": "https://localhost:8080/"
        },
        "id": "rqvEka2w0_r2",
        "outputId": "047df553-ec4c-4629-ec29-9dd1b91ce2b5"
      },
      "execution_count": null,
      "outputs": [
        {
          "output_type": "stream",
          "name": "stdout",
          "text": [
            "[0.0, 0.500000000000000]\n"
          ]
        }
      ]
    },
    {
      "cell_type": "code",
      "source": [
        "# Means max is when x = r in this case which is 0.5"
      ],
      "metadata": {
        "id": "V0JVfAUB1dVu"
      },
      "execution_count": null,
      "outputs": []
    },
    {
      "cell_type": "code",
      "source": [
        "x, y = symbols('x y') \n",
        "\n",
        "# Model parameters\n",
        "r = 3\n",
        "b = 50\n",
        "s = 5\n",
        "c =0.5\n",
        "\n",
        "\n",
        "# Given ODE\n",
        "y = (b*x**s)*(sym.exp(-s*x / r))\n",
        "\n",
        "y.subs(x, 0.05)"
      ],
      "metadata": {
        "colab": {
          "base_uri": "https://localhost:8080/",
          "height": 37
        },
        "id": "wXi9lZGB1v0O",
        "outputId": "3fec2970-3a39-4467-a523-a930d29ba4da"
      },
      "execution_count": null,
      "outputs": [
        {
          "output_type": "execute_result",
          "data": {
            "text/plain": [
              "1.43756939785832e-5"
            ],
            "text/latex": "$\\displaystyle 1.43756939785832 \\cdot 10^{-5}$"
          },
          "metadata": {},
          "execution_count": 23
        }
      ]
    }
  ]
}