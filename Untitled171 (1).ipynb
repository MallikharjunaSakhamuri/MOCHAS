{
  "nbformat": 4,
  "nbformat_minor": 0,
  "metadata": {
    "colab": {
      "provenance": []
    },
    "kernelspec": {
      "name": "python3",
      "display_name": "Python 3"
    },
    "language_info": {
      "name": "python"
    }
  },
  "cells": [
    {
      "cell_type": "code",
      "execution_count": 3,
      "metadata": {
        "id": "HRmAMLHxXXD-"
      },
      "outputs": [],
      "source": [
        "import numpy as np\n",
        "from scipy.integrate import odeint\n",
        "import matplotlib.pyplot as plt\n",
        "from sympy import *\n",
        "import sympy as sym\n",
        "x = Symbol('x')"
      ]
    },
    {
      "cell_type": "code",
      "source": [
        "c = 0.1088\n",
        "b = 0.9724\n",
        "a = 3.22 * (10 **8)\n",
        "m = 3"
      ],
      "metadata": {
        "id": "N-YYDqTAXZA6"
      },
      "execution_count": 4,
      "outputs": []
    },
    {
      "cell_type": "code",
      "source": [
        "#px = (b*x**s)*(sym.exp(-s*x / r))\n",
        "\n",
        "px = (b * (a**m)*x)/((a**m)+(x**m))"
      ],
      "metadata": {
        "id": "RM3hfDkYXqf9"
      },
      "execution_count": 5,
      "outputs": []
    },
    {
      "cell_type": "code",
      "source": [
        "x = np.array(range(100))\n",
        "#y = x ** 2\n",
        "y = (b * (a**m)*x)/((a**m)+(x**m))\n",
        "\n",
        "plt.plot(x,y)\n",
        "plt.show()\n"
      ],
      "metadata": {
        "colab": {
          "base_uri": "https://localhost:8080/",
          "height": 267
        },
        "id": "J0roqYjTa6Av",
        "outputId": "388c0347-9fdb-482d-dc03-e26a6a02aad6"
      },
      "execution_count": 9,
      "outputs": [
        {
          "output_type": "display_data",
          "data": {
            "text/plain": [
              "<Figure size 432x288 with 1 Axes>"
            ],
            "image/png": "[encoded data removed]"
          },
          "metadata": {
            "needs_background": "light"
          }
        }
      ]
    },
    {
      "cell_type": "code",
      "source": [
        "x = np.array(range(100))\n",
        "#y = x ** 2\n",
        "#y = (b * (a**m)*x)/((a**m)+(x**m))\n",
        "y = ( (b*x) / (1+((x**m)/(a**m))))\n",
        "\n",
        "plt.plot(x,y)\n",
        "plt.show()\n"
      ],
      "metadata": {
        "colab": {
          "base_uri": "https://localhost:8080/",
          "height": 267
        },
        "id": "6cA03Hfrbc-3",
        "outputId": "2123d971-28a8-4eca-c14b-94b1739934d8"
      },
      "execution_count": 15,
      "outputs": [
        {
          "output_type": "display_data",
          "data": {
            "text/plain": [
              "<Figure size 432x288 with 1 Axes>"
            ],
            "image/png": "[encoded data removed]"
          },
          "metadata": {
            "needs_background": "light"
          }
        }
      ]
    },
    {
      "cell_type": "code",
      "source": [
        "from sympy import Eq, Symbol, solve\n",
        "v = Symbol('v')\n",
        "\n",
        "d =0.68\n",
        "\n",
        "eqn = Eq(\n",
        "          (\n",
        "          ((0.14 * d)*((3.22*(10**8))**3))\n",
        "          /(((3.22*(10**8))**3)+(v**3))\n",
        "          )\n",
        "          , (0.16*d*v)\n",
        "         )\n",
        "\n",
        "#eqn = Eq(y*(8.0 - y**3), 8.0)\n",
        "\n",
        "print (solve(eqn))"
      ],
      "metadata": {
        "colab": {
          "base_uri": "https://localhost:8080/"
        },
        "id": "eoNJwVGaiB8V",
        "outputId": "c5452f16-174c-48e7-9d5b-18409d1acdbb"
      },
      "execution_count": 25,
      "outputs": [
        {
          "output_type": "stream",
          "name": "stdout",
          "text": [
            "[-322000000.291667, 0.875000000000000, 160999999.708333 - 278860180.018589*I, 160999999.708333 + 278860180.018589*I]\n"
          ]
        }
      ]
    }
  ]
}